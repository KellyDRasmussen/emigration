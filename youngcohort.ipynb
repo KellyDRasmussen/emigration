{
 "cells": [
  {
   "cell_type": "markdown",
   "metadata": {},
   "source": [
    "## Migration of International Families to and from Denmark"
   ]
  },
  {
   "cell_type": "markdown",
   "metadata": {},
   "source": [
    "To recruit and retain an international workforce, Denmark also needs to be attractive to international families and not just single people. \n",
    "\n",
    "This is a look into historical data from 2009-2024 to examine the trends of migration for people under the age of 20.\n",
    "\n",
    "# Assumptions\n",
    "* People under the age of 20 less often migrate without their family, so we can infer a family by examining this group\n",
    "* Families are more likely to want to stay medium-to-long term so that children can complete programmes at their school and maintain friendships"
   ]
  },
  {
   "cell_type": "code",
   "execution_count": 2,
   "metadata": {},
   "outputs": [],
   "source": [
    "import pandas as pd\n",
    "import numpy as np\n",
    "import matplotlib as plt"
   ]
  },
  {
   "cell_type": "code",
   "execution_count": 3,
   "metadata": {},
   "outputs": [],
   "source": [
    "df_migrant = pd.read_csv('youngmigrants.csv', header=None, encoding='ISO-8859-1')\n",
    "df_immigrant = pd.read_csv('youngimmigration.csv', header=None, encoding='ISO-8859-1')\n",
    "df_emigrant = pd.read_csv('youngemigrants.csv', header=None, encoding='ISO-8859-1')\n",
    "df_citizens = pd.read_csv('youngcitizens.csv', header=None, encoding='ISO-8859-1')"
   ]
  },
  {
   "cell_type": "code",
   "execution_count": 40,
   "metadata": {},
   "outputs": [],
   "source": [
    "# Function to assign column headers based on age, citizenship, and a year range\n",
    "def assign_columns(df, start_year, end_year):\n",
    "    columns = ['Age', 'Citizenship'] + list(range(start_year, end_year + 1))\n",
    "    df.columns = columns\n",
    "    return df\n",
    "\n",
    "# Apply the function to each dataframe with appropriate year ranges\n",
    "df_migrant = assign_columns(df_migrant, 2010, 2024)\n",
    "df_immigrant = assign_columns(df_immigrant, 2009, 2023)\n",
    "df_emigrant = assign_columns(df_emigrant, 2009, 2023)\n",
    "df_citizens = assign_columns(df_citizens, 2010, 2023)\n",
    "\n"
   ]
  },
  {
   "cell_type": "markdown",
   "metadata": {},
   "source": [
    "I want to play around with these numbers a bit before I make my life very complicated so I am going to flatten these dataframes so it is just grand totals by age. \n",
    "Not very interesting insights but I can see if my model works."
   ]
  },
  {
   "cell_type": "code",
   "execution_count": 45,
   "metadata": {},
   "outputs": [
    {
     "name": "stdout",
     "output_type": "stream",
     "text": [
      "Index(['Metric',    'Age',     2010,     2011,     2012,     2013,     2014,\n",
      "           2015,     2016,     2017,     2018,     2019,     2020,     2021,\n",
      "           2022,     2023],\n",
      "      dtype='object')\n"
     ]
    }
   ],
   "source": [
    "# Sum across all citizenships for each year while keeping the age information\n",
    "total_migrants = df_migrant.groupby('Age').sum().reset_index()\n",
    "total_immigrants = df_immigrant.groupby('Age').sum().reset_index()\n",
    "total_emigrants = df_emigrant.groupby('Age').sum().reset_index()\n",
    "total_citizens = df_citizens.groupby('Age').sum().reset_index()\n",
    "\n",
    "# Drop the 'Citizenship' column if it exists in the DataFrame (after aggregation, it is redundant)\n",
    "total_migrants = total_migrants.drop(columns=['Citizenship'], errors='ignore')\n",
    "total_immigrants = total_immigrants.drop(columns=['Citizenship'], errors='ignore')\n",
    "total_emigrants = total_emigrants.drop(columns=['Citizenship'], errors='ignore')\n",
    "total_citizens = total_citizens.drop(columns=['Citizenship'], errors='ignore')\n",
    "\n",
    "# Add a new column to indicate the type of total for each DataFrame\n",
    "total_migrants['Metric'] = 'Total Migrants'\n",
    "total_immigrants['Metric'] = 'Total Immigrants'\n",
    "total_emigrants['Metric'] = 'Total Emigrants'\n",
    "total_citizens['Metric'] = 'Total Citizens'\n",
    "\n",
    "# Reorder the columns to have 'Metric' and 'Age' first\n",
    "total_migrants = total_migrants[['Metric', 'Age'] + [col for col in total_migrants.columns if col not in ['Metric', 'Age']]]\n",
    "total_immigrants = total_immigrants[['Metric', 'Age'] + [col for col in total_immigrants.columns if col not in ['Metric', 'Age']]]\n",
    "total_emigrants = total_emigrants[['Metric', 'Age'] + [col for col in total_emigrants.columns if col not in ['Metric', 'Age']]]\n",
    "total_citizens = total_citizens[['Metric', 'Age'] + [col for col in total_citizens.columns if col not in ['Metric', 'Age']]]\n",
    "\n",
    "# Concatenate all the DataFrames along the row axis, keeping age-specific totals\n",
    "df_combined = pd.concat([total_migrants, total_immigrants, total_emigrants, total_citizens], ignore_index=True)\n",
    "\n",
    "# Extract numeric values from the 'Age' column, ignoring any non-numeric text\n",
    "df_combined['Age'] = df_combined['Age'].str.extract(r'(\\d+)').astype(int)\n",
    "\n",
    "# Sort the combined DataFrame by 'Age' to ensure proper ordering\n",
    "df_combined = df_combined.sort_values(by='Age').reset_index(drop=True)\n",
    "\n",
    "\n",
    "df_combined = df_combined.drop(columns=[2009, 2024], errors='ignore')\n",
    "\n",
    "print(df_combined.columns)\n",
    "\n"
   ]
  },
  {
   "cell_type": "code",
   "execution_count": 48,
   "metadata": {},
   "outputs": [
    {
     "name": "stdout",
     "output_type": "stream",
     "text": [
      "    Year  Population            Metric\n",
      "0   2010        6050    Total Migrants\n",
      "1   2011        6228    Total Migrants\n",
      "2   2012        6333    Total Migrants\n",
      "3   2013        6473    Total Migrants\n",
      "4   2014        6617    Total Migrants\n",
      "5   2015        6894    Total Migrants\n",
      "6   2016        7471    Total Migrants\n",
      "7   2017        7914    Total Migrants\n",
      "8   2018        8104    Total Migrants\n",
      "9   2019        8262    Total Migrants\n",
      "10  2020        8361    Total Migrants\n",
      "11  2021        8438    Total Migrants\n",
      "12  2022        8544    Total Migrants\n",
      "13  2023        9361    Total Migrants\n",
      "14  2010         649  Total Immigrants\n",
      "15  2011         476  Total Immigrants\n",
      "16  2012         460  Total Immigrants\n",
      "17  2013         451  Total Immigrants\n",
      "18  2014         536  Total Immigrants\n",
      "19  2015         804  Total Immigrants\n",
      "20  2016         673  Total Immigrants\n",
      "21  2017         403  Total Immigrants\n",
      "22  2018         344  Total Immigrants\n",
      "23  2019         304  Total Immigrants\n",
      "24  2020         244  Total Immigrants\n",
      "25  2021         260  Total Immigrants\n",
      "26  2022        1079  Total Immigrants\n",
      "27  2023         425  Total Immigrants\n",
      "28  2010         232   Total Emigrants\n",
      "29  2011         270   Total Emigrants\n",
      "30  2012         237   Total Emigrants\n",
      "31  2013         265   Total Emigrants\n",
      "32  2014         213   Total Emigrants\n",
      "33  2015         204   Total Emigrants\n",
      "34  2016         204   Total Emigrants\n",
      "35  2017         222   Total Emigrants\n",
      "36  2018         176   Total Emigrants\n",
      "37  2019         202   Total Emigrants\n",
      "38  2020         143   Total Emigrants\n",
      "39  2021         151   Total Emigrants\n",
      "40  2022         253   Total Emigrants\n",
      "41  2023         282   Total Emigrants\n",
      "42  2010          88    Total Citizens\n",
      "43  2011         205    Total Citizens\n",
      "44  2012          97    Total Citizens\n",
      "45  2013          42    Total Citizens\n",
      "46  2014          95    Total Citizens\n",
      "47  2015          83    Total Citizens\n",
      "48  2016         234    Total Citizens\n",
      "49  2017          89    Total Citizens\n",
      "50  2018          36    Total Citizens\n",
      "51  2019          27    Total Citizens\n",
      "52  2020         117    Total Citizens\n",
      "53  2021          99    Total Citizens\n",
      "54  2022          79    Total Citizens\n",
      "55  2023          59    Total Citizens\n"
     ]
    }
   ],
   "source": [
    "#I need to take a break here because I am not sure it is calculating what I want it to do\n",
    "\n",
    "def track_cohort(df, metric, start_age, start_year, end_year):\n",
    "    # Filter to get only the specified metric rows\n",
    "    df_filtered = df[df['Metric'] == metric]\n",
    "\n",
    "    # Ensure 'Age' is a column by resetting the index if necessary\n",
    "    df_filtered.reset_index(drop=True, inplace=True)\n",
    "\n",
    "    # Set 'Age' as the index to make it easier to track cohorts over time\n",
    "    df_filtered.set_index('Age', inplace=True)\n",
    "\n",
    "    # Track a specific cohort, e.g., those who were start_age in start_year\n",
    "    cohort_data = []\n",
    "\n",
    "    # Loop over each year, shifting the age each time\n",
    "    for year in range(start_year, end_year + 1):\n",
    "        age = (year - start_year) + start_age  # Increment age each year starting from start_age\n",
    "        if age in df_filtered.index:\n",
    "            cohort_data.append(df_filtered.at[age, year])\n",
    "        else:\n",
    "            cohort_data.append(None)  # Append None if the age is not present\n",
    "\n",
    "    # Create a DataFrame to display the cohort over time\n",
    "    cohort_df = pd.DataFrame({'Year': list(range(start_year, end_year + 1)), 'Population': cohort_data, 'Metric': metric})\n",
    "\n",
    "    return cohort_df\n",
    "\n",
    "\n",
    "\n",
    "# Track the cohort for 'Total Migrants' starting from age 0 in 2010\n",
    "cohort_migrants = track_cohort(df_combined, 'Total Migrants', start_age=0, start_year=2010, end_year=2023)\n",
    "\n",
    "# Track the cohort for 'Total Immigrants' starting from age 0 in 2010\n",
    "cohort_immigrants = track_cohort(df_combined, 'Total Immigrants', start_age=0, start_year=2010, end_year=2023)\n",
    "\n",
    "# Track the cohort for 'Total Emigrants' starting from age 0 in 2010\n",
    "cohort_emigrants = track_cohort(df_combined, 'Total Emigrants', start_age=0, start_year=2010, end_year=2023)\n",
    "\n",
    "# Track the cohort for 'Total Citizens' starting from age 0 in 2010\n",
    "cohort_citizens = track_cohort(df_combined, 'Total Citizens', start_age=0, start_year=2010, end_year=2023)\n",
    "\n",
    "# Concatenate all cohort DataFrames for comparison\n",
    "cohort_all = pd.concat([cohort_migrants, cohort_immigrants, cohort_emigrants, cohort_citizens], ignore_index=True)\n",
    "\n",
    "# Display the resulting DataFrame for all metrics\n",
    "#print(cohort_all)\n"
   ]
  },
  {
   "cell_type": "markdown",
   "metadata": {},
   "source": [
    "I think I want to flatten ages to pre school grundskole young adult, for each year in the data to make things more manageable. Maybe I need to do it before i join stuff up??????\n",
    "\n",
    "Sankey diagram maybe???"
   ]
  }
 ],
 "metadata": {
  "kernelspec": {
   "display_name": "Python 3",
   "language": "python",
   "name": "python3"
  },
  "language_info": {
   "codemirror_mode": {
    "name": "ipython",
    "version": 3
   },
   "file_extension": ".py",
   "mimetype": "text/x-python",
   "name": "python",
   "nbconvert_exporter": "python",
   "pygments_lexer": "ipython3",
   "version": "3.12.3"
  }
 },
 "nbformat": 4,
 "nbformat_minor": 2
}
